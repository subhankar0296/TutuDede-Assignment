{
 "cells": [
  {
   "cell_type": "code",
   "execution_count": 1,
   "id": "ce23ffaf",
   "metadata": {},
   "outputs": [
    {
     "name": "stdout",
     "output_type": "stream",
     "text": [
      "Addition : 15\n",
      "Subtraction : 5\n",
      "Multiplication : 50\n",
      "Division : 2.0\n"
     ]
    }
   ],
   "source": [
    "# Task 1: Perform Basic Mathematical Operations\n",
    "# Problem Statement: Write a Python program that does the following:\n",
    "\n",
    "# 1.  Takes two numbers as input from the user.\n",
    "num1 = int(input('Please enter the first number :'))\n",
    "num2 = int(input('Please enter the second number :'))\n",
    "\n",
    "# 2.  Performs the basic mathematical operations on these two numbers\n",
    "# Addition\n",
    "print('Addition :',num1+num2)\n",
    "\n",
    "# Subtraction\n",
    "print('Subtraction :',num1-num2)\n",
    "\n",
    "# Multiplication\n",
    "print('Multiplication :',num1*num2)\n",
    "\n",
    "# Division\n",
    "print('Division :', num1/num2)\n",
    "\n"
   ]
  },
  {
   "cell_type": "code",
   "execution_count": 3,
   "id": "48b52869",
   "metadata": {},
   "outputs": [
    {
     "name": "stdout",
     "output_type": "stream",
     "text": [
      "Hello Subhankar Mondal! welcome to the Python program\n"
     ]
    }
   ],
   "source": [
    "# Task 2: Create a Personalized Greeting\n",
    "# Problem Statement: Write a Python program that:\n",
    "# 1.  Takes a user's first name and last name as input.\n",
    "\n",
    "first_name = input('Enter your first name :')\n",
    "last_name = input('Enter your last name :')\n",
    "\n",
    "print(f'Hello {first_name} {last_name}! welcome to the Python program')"
   ]
  },
  {
   "cell_type": "code",
   "execution_count": null,
   "id": "ce063f84",
   "metadata": {},
   "outputs": [],
   "source": []
  }
 ],
 "metadata": {
  "kernelspec": {
   "display_name": "Python 3",
   "language": "python",
   "name": "python3"
  },
  "language_info": {
   "codemirror_mode": {
    "name": "ipython",
    "version": 3
   },
   "file_extension": ".py",
   "mimetype": "text/x-python",
   "name": "python",
   "nbconvert_exporter": "python",
   "pygments_lexer": "ipython3",
   "version": "3.13.2"
  }
 },
 "nbformat": 4,
 "nbformat_minor": 5
}
